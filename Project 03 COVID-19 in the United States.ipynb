{
 "cells": [
  {
   "cell_type": "markdown",
   "metadata": {},
   "source": [
    "**SA463A &#x25aa; Data Wrangling and Visualization &#x25aa; Fall 2021 &#x25aa; Uhan**"
   ]
  },
  {
   "cell_type": "markdown",
   "metadata": {},
   "source": [
    "# Project 3. COVID-19 in the United States"
   ]
  },
  {
   "cell_type": "markdown",
   "metadata": {},
   "source": [
    "In this project, you will use data on COVID-19 cases and deaths from [usafacts.org](https://usafacts.org/visualizations/coronavirus-covid-19-spread-map/), combined with geographic data from the [United States Census Bureau](https://www.census.gov/geographies/reference-files/time-series/geo/gazetteer-files.html) and the [`vega_datasets`](https://github.com/altair-viz/vega_datasets) package to create several visualizations of COVID-19 in the United States in 2020, similar to those found on major news websites.\n",
    "\n",
    "In the same folder as this notebook, there are two CSV files.\n",
    "\n",
    "1. `data/covid_us_county_20201001.csv` contains data on COVID-19 cases and deaths for each county in the United States as of October 1, 2020. Each row contains the following data for each county:\n",
    "\n",
    "| Column | Description | \n",
    "| :- | :- |\n",
    "| `county_fips` | County FIPS code |\n",
    "| `state` | State name |\n",
    "| `county` | County name |\n",
    "| `date` | Date of observation |\n",
    "| `latitude` | Representative latitude coordinate |\n",
    "| `longitude` | Representative longitude coordinate |\n",
    "| `cases` | Cumulative total number of cases as of October 1, 2020 |\n",
    "| `deaths` | Cumulative total number of deaths as of October 1, 2020 |\n",
    "| `cases_week` | Number of new cases in the week ending on October 1, 2020 |\n",
    "| `deaths_week` | Number of new deaths in the week ending on October 1, 2020 |\n",
    "| `cases_per_100k` | Cumulative total number of cases as of October 1, 2020, per 100,000 people |\n",
    "| `deaths_per_100k` | Cumulative total number of deaths as of October 1, 2020, per 100,000 people |\n",
    "| `cases_week_per_100k` | Number of new cases in the week ending on October 1, 2020, per 100,000 people |\n",
    "| `deaths_week_per_100k` | Number of new deaths in the week ending on October 1, 2020, per 100,000 people |\n",
    "\n",
    "\n",
    "2. `data/covid_us_state_20201001.csv` contains data on COVID-19 cases and deaths for each state in the United States and each day from February 1, 2020 to October 1, 2020. Each row contains the following data for each state and day:\n",
    "\n",
    "| Column | Description | \n",
    "| :- | :- |\n",
    "| `state` | State name |\n",
    "| `date` | Date of observation |\n",
    "| `cases` | Cumulative total number of cases as of October 1, 2020 |\n",
    "| `deaths` | Cumulative total number of deaths as of October 1, 2020 |\n",
    "| `cases_day` | Number of new cases on the date of observation |\n",
    "| `deaths_day` | Number of new deaths on the date of observation |\n",
    "| `cases_day_per_100k` | Number of new cases on the date of observation, per 100,000 people |\n",
    "| `deaths_day_per_100k` | Number of new deaths on the date of observation, per 100,000 people |"
   ]
  },
  {
   "cell_type": "markdown",
   "metadata": {},
   "source": [
    "<hr style=\"border-top: 2px solid gray; margin-top: 1px; margin-bottom: 1px\"></hr>"
   ]
  },
  {
   "cell_type": "markdown",
   "metadata": {},
   "source": [
    "## Problem 0\n",
    "\n",
    "Import Pandas, Altair, VegaFusion and `vega_datasets`."
   ]
  },
  {
   "cell_type": "code",
   "execution_count": null,
   "metadata": {},
   "outputs": [],
   "source": []
  },
  {
   "cell_type": "markdown",
   "metadata": {},
   "source": [
    "## Problem 1\n",
    "\n",
    "Create a symbol map, showing the cumulative total number of cases in each county in the United States as of October 1, 2020. It should look like this:\n",
    "\n",
    "<img src='img/problem1.png' width='85%' />\n",
    "\n",
    "In particular:\n",
    "\n",
    "\n",
    "- Use the `data.us_10m.url` dataset from `vega_datasets` to create the background map of the United States with state boundaries. \n",
    "    - The fill color of the map should be `'lightgray'`, and the stroke color of the state boundaries should be `'white'`. \n",
    "    - Use the `'albersUsa'` projection.\n",
    "\n",
    "\n",
    "- Represent each county with a circle located at its representative latitude and longitude coordinates.\n",
    "    - Use the size of the circles to represent the cumulative total number of cases.\n",
    "    - Each circle should have a fill color of `'red'`, stroke color of `'darkred'`, opacity of 0.4, and stroke width of 1. \n",
    "\n",
    "\n",
    "- Provide a tooltip for each circle that displays the following information: state name, county name, cumulative total number of cases, cumulative total number of deaths.    \n",
    "    - Provide a descriptive title for each piece of information in the tooltip.\n",
    "    - Format the numbers in the tooltips as integers with commas as thousands separators.\n",
    "\n",
    "\n",
    "- Provide a descriptive title for the legend and overall chart.\n",
    "\n",
    "\n",
    "- Set the width of the chart to 800 pixels, and the height to 600 pixels.\n",
    "\n",
    "\n",
    "- Remove the default outer boundary of the chart.\n",
    "\n",
    "To format the numbers in the tooltips, you can use the `formatType=...` and `format=...` keyword arguments in `alt.Tooltip()`.\n",
    "\n",
    "- `formatType=...` can be set to `'number'` or `'time'`\n",
    "- `format=...` takes a [D3 number format string](https://github.com/d3/d3-format#locale_format) or [D3 time format string](https://github.com/d3/d3-time-format#locale_format), depending on the value of `formatType`\n",
    "    \n",
    "So, for example, to format the numbers in the tooltips as integers with commas as thousands separators, you can use the following in `alt.Tooltip()`:\n",
    "\n",
    "```python\n",
    "formatType='number', format=',d'\n",
    "```\n",
    "    \n",
    "Click on the links above for more details on the D3 format strings.\n",
    "[Here](https://altair-viz.github.io/user_guide/encoding.html#encoding-channel-options) is the Altair documentation on encoding options, including `format=...` and `formatType=...`."
   ]
  },
  {
   "cell_type": "code",
   "execution_count": null,
   "metadata": {},
   "outputs": [],
   "source": []
  },
  {
   "cell_type": "markdown",
   "metadata": {},
   "source": [
    "## Problem 2\n",
    "\n",
    "Create a chloropleth map, showing the number of new cases in each county in the United States in the week ending on October 1, 2020. It should look like this:\n",
    "\n",
    "<img src='img/problem2.png' width='85%' />\n",
    "\n",
    "In particular:\n",
    "\n",
    "- Use the `data.us_10m.url` dataset from `vega_datasets` to create a map of the United States with the *county* boundaries. \n",
    "    - Each county should be colored according to the number of new cases in that county in the week ending on October 1, 2020, per 100,000. \n",
    "    - Use the `'yelloworangered'` color scheme.\n",
    "\n",
    "\n",
    "- Provide a tooltip for each county that displays the following information: state name; county name; number of new cases in the week ending on October 1, 2020, per 100,000; number of new deaths in the week ending on October 1, 2020, per 100,000.\n",
    "    - Provide a descriptive title for each piece of information in the tooltip.\n",
    "    - Format the numbers in the tooltips to show 2 decimal places.\n",
    "\n",
    "\n",
    "- Provide a descriptive title for the legend and overall chart.\n",
    "\n",
    "\n",
    "- Set the width of the chart to 800 pixels, and the height to 600 pixels.\n",
    "\n",
    "\n",
    "- Remove the default outer boundary of the chart.\n",
    "\n",
    "To make titles wrap onto multiple lines, provide a list of strings to the `title=...` keyword argument. For example, `title=['Weekly new cases', 'per 100,000']`."
   ]
  },
  {
   "cell_type": "code",
   "execution_count": null,
   "metadata": {},
   "outputs": [],
   "source": []
  },
  {
   "cell_type": "markdown",
   "metadata": {},
   "source": [
    "## Problem 3\n",
    "\n",
    "Create a matrix of charts with 9 rows and 6 columns that shows\n",
    "\n",
    "1. the daily number of new cases per 100,000 people and \n",
    "2. the rolling 7-day average of new cases per 100,000 people\n",
    "\n",
    "in each state between February 1, 2020 and October 1, 2020. It should look like this:\n",
    "\n",
    "<img src='img/problem3.png' width='80%'/>\n",
    "\n",
    "In particular:\n",
    "\n",
    "- Enable the VegaFusion mime renderer. Disable its row limit.\n",
    "\n",
    "- Create a *base bar chart* that shows the daily number of new cases per 100,000 people.\n",
    "    - Set the bar size to 0.5, color to `'red'`, and opacity to 0.2.\n",
    "    - Provide a tooltip for each bar in the chart that displays the following information: date; number of new cases on that day; number of new cases on that day per 100,000 people.\n",
    "        - Provide a descriptive title for each piece of information in the tooltip.\n",
    "        - Display integer values using commas as thousands separators.\n",
    "        - Display floating point values with 2 decimal places.\n",
    "    - Set the width and height of the base bar chart to 100 pixels.\n",
    "\n",
    "\n",
    "- Create a *base line chart* that shows the rolling 7-day average of new cases per 100,000 people. \n",
    "    - You can compute a rolling average using `.transform_window()`; see below.\n",
    "    - Set the line color to `'darkred'`, and the stroke width to 1.\n",
    "\n",
    "\n",
    "- Layer the base bar chart and base line chart together, specify the data, and then create facets for each state.\n",
    "    - Remove all axis titles from the chart.\n",
    "    - Provide a descriptive title for the overall chart. Make sure the title describes the y-axis values in the chart.\n",
    "    \n",
    "\n",
    "To compute the rolling 7-day average of new cases per 100,000 people, we can use `.transform_window()` on the data as follows:\n",
    "\n",
    "```python\n",
    ".transform_window(\n",
    "    groupby=['state'],         # divide the dataset, one group for each state\n",
    "    sort=[{'field': 'date'}]   # sort each group by date\n",
    "    frame=[-7, 0],             # for each row, consider the window with the 7 preceding rows\n",
    "    rolling_avg='mean(cases_day_per_100k)'   # take the mean over the specified window\n",
    ")\n",
    "```\n",
    "\n",
    "[Here](https://altair-viz.github.io/user_guide/transform/window.html) is the Altair documentation on the window transform.\n",
    "Also, [here](https://altair-viz.github.io/gallery/scatter_with_rolling_mean.html?highlight=transform_window) is an example from the Altair example gallery on using the window transform to compute a rolling or moving average."
   ]
  },
  {
   "cell_type": "code",
   "execution_count": null,
   "metadata": {},
   "outputs": [],
   "source": []
  },
  {
   "cell_type": "markdown",
   "metadata": {},
   "source": [
    "<hr style=\"border-top: 2px solid gray; margin-top: 1px; margin-bottom: 1px\"></hr>"
   ]
  },
  {
   "cell_type": "markdown",
   "metadata": {},
   "source": [
    "## Grading rubric"
   ]
  },
  {
   "cell_type": "markdown",
   "metadata": {},
   "source": [
    "| Problem |                                                                                                         | Points |\n",
    "| :-      | :-                                                                                                      | -:     |\n",
    "| 0       | Import Pandas, Altair, VegaFusion, and `vega_datasets`                                                  | 1      |\n",
    "| 1       | Create background map of US with state boundaries                                                       | 4      |\n",
    "|         | Configure fill color and stroke color of background map according to instructions                       | 1      |\n",
    "|         | Configure projection of background map according to instructions                                        | 1      |\n",
    "|         | Create circle marks using correct non-tooltip encodings                                                 | 6      |\n",
    "|         | Configure fill color, stroke color, opacity, and stroke width of circle marks according to instructions | 2      |\n",
    "|         | Create tooltip that displays state and county names, cumulative total numbers of cases and deaths       | 4      |\n",
    "|         | Format numbers in tooltips as integers with commas as thousands separators                              | 2      |\n",
    "|         | Set descriptive titles for tooltip items, legend, and overall chart                                     | 3      |\n",
    "|         | Set width and height of chart according to instructions                                                 | 1      |\n",
    "|         | Remove default outer boundary of chart                                                                  | 1      |\n",
    "|         | Code runs without errors                                                                                | 6      |\n",
    "| 2       | Create map of US with county boundaries                                                                 | 4      |\n",
    "|         | Link counties in the map with relevant variables from correct COVID-19 dataset                          | 6      |\n",
    "|         | Create chloropleth map using correct non-tooltip encodings and directed color scheme                    | 4      |\n",
    "|         | Create tooltip that displays state and county names, weekly numbers of cases and deaths per 100K        | 4      |\n",
    "|         | Format numbers in tooltips to show 2 decimal places                                                     | 2      |\n",
    "|         | Set descriptive titles for tooltip items, legend, and overall chart                                     | 3      |\n",
    "|         | Set width and height of chart according to instructions                                                 | 1      |\n",
    "|         | Remove default outer boundary of chart                                                                  | 1      |\n",
    "|         | Code runs without errors                                                                                | 6      |\n",
    "| 3       | Enable the VegaFusion mime renderer and disable its row limit                                           | 1      | \n",
    "|         | Create base bar chart with correct non-tooltip encodings                                                | 4      |\n",
    "|         | Configure bar size, color, and opacity according to instructions                                        | 2      |\n",
    "|         | Create tooltip that displays date, number of new cases, number of new cases per 100K                    | 3      |\n",
    "|         | Format numbers in tooltips as directed                                                                  | 2      |\n",
    "|         | Set width and height of base bar chart according to instructions                                        | 1      |\n",
    "|         | Correctly compute rolling average per state                                                             | 4      |\n",
    "|         | Create line chart of rolling average with correct encodings                                             | 4      |\n",
    "|         | Configure line color and stroke width according to instructions                                         | 1      |\n",
    "|         | Correctly create facets of layered chart                                                                | 4      |\n",
    "|         | Remove axis titles from overall chart                                                                   | 1      |\n",
    "|         | Set descriptive titles for tooltip items and overall chart                                              | 2      |\n",
    "|         | Code runs without errors                                                                                | 8      |\n",
    "|         | **Total**                                                                                               | **100**    |"
   ]
  }
 ],
 "metadata": {
  "kernelspec": {
   "display_name": "Python 3 (ipykernel)",
   "language": "python",
   "name": "python3"
  },
  "language_info": {
   "codemirror_mode": {
    "name": "ipython",
    "version": 3
   },
   "file_extension": ".py",
   "mimetype": "text/x-python",
   "name": "python",
   "nbconvert_exporter": "python",
   "pygments_lexer": "ipython3",
   "version": "3.11.3"
  },
  "toc-autonumbering": false,
  "toc-showcode": false,
  "toc-showtags": false
 },
 "nbformat": 4,
 "nbformat_minor": 4
}
